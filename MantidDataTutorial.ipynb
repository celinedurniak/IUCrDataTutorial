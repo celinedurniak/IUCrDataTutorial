{
 "cells": [
  {
   "cell_type": "markdown",
   "id": "4cc624b2-9c83-466d-8830-04eccb3642f3",
   "metadata": {},
   "source": [
    "# Mantid neutron data reduction tutorial\n",
    "\n",
    "text text"
   ]
  }
 ],
 "metadata": {
  "kernelspec": {
   "display_name": "Python 3 (ipykernel)",
   "language": "python",
   "name": "python3"
  },
  "language_info": {
   "codemirror_mode": {
    "name": "ipython",
    "version": 3
   },
   "file_extension": ".py",
   "mimetype": "text/x-python",
   "name": "python",
   "nbconvert_exporter": "python",
   "pygments_lexer": "ipython3",
   "version": "3.10.14"
  }
 },
 "nbformat": 4,
 "nbformat_minor": 5
}
