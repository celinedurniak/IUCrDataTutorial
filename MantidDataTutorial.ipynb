{
 "cells": [
  {
   "cell_type": "markdown",
   "id": "4cc624b2-9c83-466d-8830-04eccb3642f3",
   "metadata": {},
   "source": [
    "# Mantid neutron data reduction demo\n",
    "\n",
    "Welcome to the mantid neutron data demo! Please see the repo `readme` and make sure all prerequisites are met. \n",
    "\n",
    "In this tutorial, we will use the mantid framework to load, visualise and manipulate the neutron dataset you've downloaded from dropbox TODO: add link.\n",
    "\n",
    "Mantid will be invoked using python scripting and some basic familiarity with python is assumed.\n",
    "\n",
    "## Step one: import mantid and some other useful tools\n",
    "\n",
    "As with most python scripts, our script will begin with importing the modules we're going to use. To do this, select the cell below and hit `Shift-Enter` to run it.\n",
    "\n",
    "If you see any errors at this stage, check your conda environment is activated!"
   ]
  },
  {
   "cell_type": "code",
   "execution_count": 1,
   "id": "f9024e54-f0eb-494f-88b6-2bea13523e91",
   "metadata": {},
   "outputs": [
    {
     "name": "stdout",
     "output_type": "stream",
     "text": [
      "FrameworkManager-[Notice] Welcome to Mantid 6.10.0\n",
      "FrameworkManager-[Notice] Please cite: http://dx.doi.org/10.1016/j.nima.2014.07.029 and this release: http://dx.doi.org/10.5286/Software/Mantid6.10\n",
      "DownloadInstrument-[Notice] Downloading 1 file from the instrument repository\n"
     ]
    }
   ],
   "source": [
    "from mantid.simpleapi import *\n",
    "import matplotlib.pyplot as plt\n",
    "import numpy as np"
   ]
  },
  {
   "cell_type": "code",
   "execution_count": 3,
   "id": "b82ab876-3fb9-4f7a-8f1c-f4fb7682045a",
   "metadata": {},
   "outputs": [],
   "source": [
    "a = np.array([1,2,3])"
   ]
  },
  {
   "cell_type": "code",
   "execution_count": 4,
   "id": "a452df00-8181-4613-a772-f02f543c8b6f",
   "metadata": {},
   "outputs": [
    {
     "data": {
      "text/plain": [
       "array([1, 2, 3])"
      ]
     },
     "execution_count": 4,
     "metadata": {},
     "output_type": "execute_result"
    }
   ],
   "source": [
    "a"
   ]
  },
  {
   "cell_type": "code",
   "execution_count": null,
   "id": "0882c370-bc6f-47c4-b736-0c976e18da0f",
   "metadata": {},
   "outputs": [],
   "source": []
  }
 ],
 "metadata": {
  "kernelspec": {
   "display_name": "Python 3 (ipykernel)",
   "language": "python",
   "name": "python3"
  },
  "language_info": {
   "codemirror_mode": {
    "name": "ipython",
    "version": 3
   },
   "file_extension": ".py",
   "mimetype": "text/x-python",
   "name": "python",
   "nbconvert_exporter": "python",
   "pygments_lexer": "ipython3",
   "version": "3.10.14"
  }
 },
 "nbformat": 4,
 "nbformat_minor": 5
}
