{
 "cells": [
  {
   "cell_type": "markdown",
   "id": "4affe8c3-fdc7-4642-aea2-1622be01b5fe",
   "metadata": {},
   "source": [
    "# How to set up for the tutorial\n",
    "\n",
    "TODO: add instructions"
   ]
  }
 ],
 "metadata": {
  "kernelspec": {
   "display_name": "Python 3 (ipykernel)",
   "language": "python",
   "name": "python3"
  },
  "language_info": {
   "codemirror_mode": {
    "name": "ipython",
    "version": 3
   },
   "file_extension": ".py",
   "mimetype": "text/x-python",
   "name": "python",
   "nbconvert_exporter": "python",
   "pygments_lexer": "ipython3",
   "version": "3.10.14"
  }
 },
 "nbformat": 4,
 "nbformat_minor": 5
}
