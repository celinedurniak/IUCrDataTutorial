{
 "cells": [
  {
   "cell_type": "markdown",
   "id": "4cc624b2-9c83-466d-8830-04eccb3642f3",
   "metadata": {},
   "source": [
    "# Scipp neutron data reduction demo\n",
    "\n",
    "## Introduction\n",
    "\n",
    "In this notebook we use the same datafiles as in `MantidDataTutorial.ipynb`. But the data reduction is done using Scipp. Its online documentation is available at [scipp.github.io](https://scipp.github.io/).   \n",
    "The datafiles can be downloaded from [dropbox](https://www.dropbox.com/scl/fo/kduv87wx4j2cc71u9lu97/AKy4Yn7Q_EAvXyd1jV0jd1w?rlkey=jcy7759n02vqc8ikwyglr5k30&st=rvf18jlv&dl=0).\n",
    "\n",
    "Some basic familiarity with python is assumed. See this [link](https://ess-dmsc-dram.github.io/dmsc-school/1-python/python_basics.html) for a short introduction if needed.  \n",
    "\n",
    "In a Jupyter notebook, to execute the content of one of the cells, just select it and hit `shift-enter` or click on the `play` icon in the toolbar! More information can be found at this [link](https://jupyterlab.readthedocs.io/en/stable/user/interface.html).\n",
    "\n",
    "## Import Scipp and some other tools\n",
    "\n",
    "As with most python scripts, our script will begin with importing the necessary modules.  \n",
    "\n",
    "Just select the cell below and hit `Shift-Enter` to run it.  \n",
    "\n",
    "If you see any errors at this stage, check your conda environment is activated."
   ]
  },
  {
   "cell_type": "code",
   "execution_count": null,
   "id": "f9024e54-f0eb-494f-88b6-2bea13523e91",
   "metadata": {},
   "outputs": [],
   "source": [
    "import numpy as np\n",
    "import scipp as sc\n",
    "import scippneutron as scn\n",
    "import plopp as pp\n",
    "import scippnexus as snx\n",
    "import matplotlib.pyplot as plt\n",
    "\n",
    "# mute mantid log display\n",
    "from mantid.kernel import ConfigService\n",
    "ConfigService.setLogLevel(1)\n",
    "\n",
    "%matplotlib widget"
   ]
  },
  {
   "cell_type": "markdown",
   "id": "06c1be9a-87bc-4e76-96ad-a7a1738a6745",
   "metadata": {},
   "source": [
    "## Path to the data"
   ]
  },
  {
   "cell_type": "code",
   "execution_count": null,
   "id": "8166de35-ce03-4e15-a541-a210f38026c9",
   "metadata": {},
   "outputs": [],
   "source": [
    "dataPath = \"/Users/66j/Downloads\"\n",
    "dataFile = \"NIST_Silicon\"\n",
    "dataSet = f\"{dataPath}/{dataFile}.nxs\""
   ]
  },
  {
   "cell_type": "markdown",
   "id": "5d2e1b82-2ad7-4c28-82aa-10de3f01909e",
   "metadata": {},
   "source": [
    "## Load the data \n",
    "\n",
    "Loading Nexus files requires [Mantid](https://www.mantidproject.org).\n",
    "See, e.g., [Installation](https://scipp.github.io/getting-started/installation.html) on how to install scipp and Mantid with `conda`."
   ]
  },
  {
   "cell_type": "code",
   "execution_count": null,
   "id": "18fccb12-d4ae-4dd6-b09c-eb38bd826eb2",
   "metadata": {},
   "outputs": [],
   "source": [
    "silicon = scn.load_with_mantid(dataSet, \n",
    "                               load_pulse_times=False)"
   ]
  },
  {
   "cell_type": "markdown",
   "id": "ce9bb88a-0b0d-4a71-b159-72c0bf4c2b48",
   "metadata": {},
   "source": [
    "## Inspect the data\n",
    "\n"
   ]
  },
  {
   "cell_type": "code",
   "execution_count": null,
   "id": "418a8166-f661-49d6-a1ef-68f8d4e1fe5a",
   "metadata": {},
   "outputs": [],
   "source": [
    "silicon"
   ]
  },
  {
   "cell_type": "markdown",
   "id": "89a56764-5cbb-4400-b604-c5bfc4cc769c",
   "metadata": {},
   "source": [
    "It is a `DataGroup` containing metadata and detector data (neutron).  \n",
    "\n",
    "Extract the actual events:"
   ]
  },
  {
   "cell_type": "code",
   "execution_count": null,
   "id": "70efa4df-6d89-42dd-8161-60fbce6db6d4",
   "metadata": {},
   "outputs": [],
   "source": [
    "si_da = silicon['data']\n",
    "si_da"
   ]
  },
  {
   "cell_type": "code",
   "execution_count": null,
   "id": "844b2329-2f5b-4bb7-92d0-5d826b37470b",
   "metadata": {},
   "outputs": [],
   "source": [
    "sc.show(si_da)"
   ]
  },
  {
   "cell_type": "markdown",
   "id": "61c8b53a-b6b5-45df-980f-8a3d8e514e9e",
   "metadata": {},
   "source": [
    "The underlying events can be inspected by using: "
   ]
  },
  {
   "cell_type": "code",
   "execution_count": null,
   "id": "7bbb5340-9b6d-4723-942c-71189bc7b3fc",
   "metadata": {},
   "outputs": [],
   "source": [
    "si_da.bins.constituents['data']"
   ]
  },
  {
   "cell_type": "markdown",
   "id": "b2070a18-ec92-452a-b8bc-900103139d0c",
   "metadata": {},
   "source": [
    "## Instrument view"
   ]
  },
  {
   "cell_type": "code",
   "execution_count": null,
   "id": "865aadc3-f117-4a99-b09a-2e22e266e295",
   "metadata": {
    "scrolled": true
   },
   "outputs": [],
   "source": [
    "pp.scatter3d(si_da.hist(), \n",
    "             pos='position', \n",
    "             pixel_size=0.01, \n",
    "             cbar=True)"
   ]
  },
  {
   "cell_type": "markdown",
   "id": "e86e6633-570d-4998-85f7-65ea0a270f22",
   "metadata": {},
   "source": [
    "## Convert units\n",
    "\n",
    "For more information on this topic, please refer to [Scipp documentation](https://scipp.github.io/scippneutron/user-guide/coordinate-transformations.html)"
   ]
  },
  {
   "cell_type": "code",
   "execution_count": null,
   "id": "c0cfa8b1-a85f-4ad8-9ad7-c803c8fabb4a",
   "metadata": {},
   "outputs": [],
   "source": [
    "dspacing_graph = {\n",
    "    **scn.conversion.graph.beamline.beamline(scatter=True),\n",
    "    **scn.conversion.graph.tof.elastic_dspacing('tof'),\n",
    "}\n",
    "sc.show_graph(dspacing_graph)"
   ]
  },
  {
   "cell_type": "code",
   "execution_count": null,
   "id": "db2b74c1-e7a9-4f99-b29d-659b5d5e7da5",
   "metadata": {},
   "outputs": [],
   "source": [
    "si_dsp = si_da.transform_coords('dspacing', \n",
    "                                graph=dspacing_graph)\n",
    "si_dsp"
   ]
  },
  {
   "cell_type": "markdown",
   "id": "19f63849-eb84-40d6-8e62-660864758400",
   "metadata": {},
   "source": [
    "## Plot selected spectra"
   ]
  },
  {
   "cell_type": "code",
   "execution_count": null,
   "id": "1275dc6f-a6c1-47aa-9e0d-a3febe5184eb",
   "metadata": {},
   "outputs": [],
   "source": [
    "sp2plot1 = 0\n",
    "sp2plot2 = 18431\n",
    "\n",
    "assert sp2plot1 in range(si_dsp.sizes['spectrum']), f\"{sp2plot1} out of range\"\n",
    "assert sp2plot2 in range(si_dsp.sizes['spectrum']), f\"{sp2plot2} out of range\"\n",
    "\n",
    "pp.plot({f'Sp{sp2plot1}': si_dsp['spectrum', sp2plot1].hist(dspacing=500),\n",
    "         f'Sp{sp2plot2}': si_dsp['spectrum', sp2plot2].hist(dspacing=500)}, \n",
    "        errorbars=False, grid=True)"
   ]
  },
  {
   "cell_type": "markdown",
   "id": "3e2cd86e-56c6-4a41-bb79-996fc5646d1f",
   "metadata": {},
   "source": [
    "## Diffraction Focussing\n",
    "### Create groups\n",
    "\n",
    "Contrary to `Mantid`, `Scipp` does not rely on Instrument Definition Files to load the data. The geometry of the instrument is available via $L_1$, $L_2$, source and sample positions and the detectors' positions.\n",
    "\n",
    "The grouping scheme has to be defined manually. \n",
    "\n",
    "We are going to create 6 pixel groups according to the vertical columns of modules in each detector. "
   ]
  },
  {
   "cell_type": "code",
   "execution_count": null,
   "id": "54140e07-ae98-4bcc-8993-1ce8a242ca6b",
   "metadata": {
    "scrolled": true
   },
   "outputs": [],
   "source": [
    "panel_size = 32**2\n",
    "si_dsp.coords['columns'] = sc.array(dims=['spectrum'], \n",
    "                                   values=[int(i//(3*panel_size) + 1) if i<3*3*panel_size else int(9 - i//(3*panel_size)) for i in range(si_dsp.sizes['spectrum'])],\n",
    "                                   unit=None)\n",
    "si_dsp"
   ]
  },
  {
   "cell_type": "markdown",
   "id": "f77cacf0-f318-4288-8c94-f4205aded58d",
   "metadata": {},
   "source": [
    "Using the instrument view, we can quickly check that the selection \n",
    "by spectra corresponds to the correct column:"
   ]
  },
  {
   "cell_type": "code",
   "execution_count": null,
   "id": "5a6adb3f-2163-4999-bc22-806f7aa7072c",
   "metadata": {},
   "outputs": [],
   "source": [
    "pp.scatter3d({'Column1': si_dsp['spectrum', :3*panel_size].hist(),\n",
    "              'Column3': si_dsp['spectrum', 6*panel_size: 9*panel_size].hist()},\n",
    "             pos='position', \n",
    "             pixel_size=0.01,\n",
    "             title='Selection of columns of detectors',\n",
    "             cbar=True)"
   ]
  },
  {
   "cell_type": "markdown",
   "id": "254d44e2-beae-43bd-ae88-5fa3b68a9290",
   "metadata": {},
   "source": [
    "Below we check how the groups are distributed among the `spectra`:"
   ]
  },
  {
   "cell_type": "code",
   "execution_count": null,
   "id": "c5d6f0e6-ed43-4a51-8bd5-b9dc1d41f8a6",
   "metadata": {},
   "outputs": [],
   "source": [
    "si_dsp.coords['columns'].plot(\n",
    "    grid=True,\n",
    "    title='Check distribution of groups',\n",
    "    linestyle='solid',\n",
    "    marker=''\n",
    ")"
   ]
  },
  {
   "cell_type": "markdown",
   "id": "ba39019a-f63e-4c79-bf9a-b4f683af1a37",
   "metadata": {},
   "source": [
    "We check that the spectra are equally distributed among the groups:"
   ]
  },
  {
   "cell_type": "code",
   "execution_count": null,
   "id": "08ff8c05-fd4f-433e-b3e8-6f7a6bbfe013",
   "metadata": {},
   "outputs": [],
   "source": [
    "len(set([(si_dsp.coords['columns'] == sc.scalar(i, unit=None)).sum().value\n",
    " for i in range(1, 7)])) == 1"
   ]
  },
  {
   "cell_type": "markdown",
   "id": "a2bd5459-015b-4dd5-abb9-23992a0398ea",
   "metadata": {},
   "source": [
    "We check the evolution of $2\\theta$ in comparison with the columns:"
   ]
  },
  {
   "cell_type": "code",
   "execution_count": null,
   "id": "d4a9b6b3-33db-4473-b9ca-559c7510d016",
   "metadata": {},
   "outputs": [],
   "source": [
    "fig, ax = plt.subplots(2, 1, sharex=True)\n",
    "\n",
    "p1 = pp.plot({'two theta': sc.to_unit(si_dsp.coords['two_theta'], unit='deg')}, \n",
    "             grid=True, \n",
    "             linestyle='', \n",
    "             marker='.', \n",
    "             ax=ax[0])\n",
    "\n",
    "p2 = pp.plot({'column': si_dsp.coords['columns']}, \n",
    "             grid=True, \n",
    "             linestyle='solid', \n",
    "             marker='',\n",
    "             ax=ax[1])"
   ]
  },
  {
   "cell_type": "markdown",
   "id": "2622e62d-353f-402a-b22b-15841cf344d3",
   "metadata": {},
   "source": [
    "The next step is to combine these groups:"
   ]
  },
  {
   "cell_type": "code",
   "execution_count": null,
   "id": "a224c097-3235-45f4-8e57-d3f374b906ef",
   "metadata": {},
   "outputs": [],
   "source": [
    "si_column = si_dsp.group('columns')\n",
    "si_column"
   ]
  },
  {
   "cell_type": "markdown",
   "id": "3030104b-5dfa-4540-b201-84ccd6e871e5",
   "metadata": {},
   "source": [
    "We now have a new DataArray `si_column` with 6 groups in the `columns` coordinate.   \n",
    "Now we plot all 6 together: "
   ]
  },
  {
   "cell_type": "code",
   "execution_count": null,
   "id": "480711b0-9f87-4cf3-90a2-ce5ccba8e797",
   "metadata": {},
   "outputs": [],
   "source": [
    "pp.plot({f'Column {i}': si_column['columns', sc.scalar(i, unit=None)].hist(dspacing=500)['dspacing', 2:] for i in range(1, 7)},\n",
    "        grid=True, errorbars=False)"
   ]
  },
  {
   "cell_type": "code",
   "execution_count": null,
   "id": "f52c7fad-997f-4cb9-96cc-791254008471",
   "metadata": {},
   "outputs": [],
   "source": [
    "dspacing_bins = sc.geomspace(dim='dspacing', \n",
    "                              unit='angstrom', \n",
    "                              start=0.3,\n",
    "                              stop=5.26,\n",
    "                              num=3582) # number from implementation in Mantid\n",
    "\n",
    "si_column_bin = si_column.bin(dspacing=dspacing_bins)\n",
    "si_column_bin"
   ]
  },
  {
   "cell_type": "code",
   "execution_count": null,
   "id": "0733b1f9-373e-40a9-8a4b-8b10a15e8e9a",
   "metadata": {},
   "outputs": [],
   "source": [
    "dg_to_plot = sc.DataGroup()\n",
    "for i in range(1, 7):\n",
    "    dg_to_plot[f'Column {i}'] = si_column_bin['columns', sc.scalar(i, unit=None)].hist() \n",
    "pp.plot(dg_to_plot, grid=True, errorbars=False)"
   ]
  },
  {
   "cell_type": "markdown",
   "id": "313b741b-169d-433a-9295-84888e26ea30",
   "metadata": {},
   "source": [
    "The event data are better sampled.  \n",
    "These plots already exhibit some of the properties of TOF detectors. \n",
    "We can see that: \n",
    "\n",
    "1. The maximum d-spacing increases towards low angle\n",
    "2. The minimum d-spacing decreases towards high angle\n",
    "3. The diffraction resolution (Bragg peak width) increases towards higher values.\n",
    "\n",
    "But if we zoom in to, say the two peaks at 3.1 Å, we will see that they don't quite line up. Since these peaks correspond to the same Bragg reflection, they should have the same d-spacing. This is due to errors in the default mathematical description of the instrument used when calculating the conversion from TOF to d-spacing. To correct for this, we must apply a calibration. This calibration was already measured, and the calibration values (the \"Diffractometer Constants\") are stored in the provided file `diffract_consts.h5`. "
   ]
  },
  {
   "cell_type": "code",
   "execution_count": null,
   "id": "48eda9bf-97f9-4120-99b6-288cdc45c902",
   "metadata": {},
   "outputs": [],
   "source": [
    "dsp_min = 3 \n",
    "dsp_max = 3.5\n",
    "\n",
    "pp.plot(dg_to_plot['dspacing', dsp_min*sc.Unit('angstrom'):dsp_max*sc.Unit('angstrom')],\n",
    "        title=f'Zoom in dspacing [{dsp_min}, {dsp_max}] Angstrom',\n",
    "        grid=True, errorbars=False)"
   ]
  },
  {
   "cell_type": "markdown",
   "id": "ceec25e4-cf0b-40d8-bf57-e6b70360d6de",
   "metadata": {},
   "source": [
    "Below we start from the original DataArray (in `ToF`). \n",
    "We apply the calibration and convert to d-spacing again:"
   ]
  },
  {
   "cell_type": "markdown",
   "id": "36b54eb8-df81-4c20-b1ec-a63ec9eab309",
   "metadata": {},
   "source": [
    "## Convert to d-spacing with calibration\n",
    "### Define graph"
   ]
  },
  {
   "cell_type": "code",
   "execution_count": null,
   "id": "90df812f-b768-4c2f-be7a-bb896fa5f89a",
   "metadata": {},
   "outputs": [],
   "source": [
    "si_da"
   ]
  },
  {
   "cell_type": "code",
   "execution_count": null,
   "id": "65be4cec-6c2a-4db6-9c49-fd576f772453",
   "metadata": {},
   "outputs": [],
   "source": [
    "calib = sc.DataGroup()\n",
    "\n",
    "\n",
    "\n",
    "with snx.File(f\"{dataPath}/diffract_consts.h5\") as f: \n",
    "    calib = f['calibration'][()]\n",
    "\n",
    "calib"
   ]
  },
  {
   "cell_type": "code",
   "execution_count": null,
   "id": "049e78fb-6731-4a48-a406-c47f093108db",
   "metadata": {
    "scrolled": true
   },
   "outputs": [],
   "source": [
    "def dspacing_with_calibration(tof, difc):\n",
    "    difc = sc.reciprocal(difc)\n",
    "    return difc * tof\n",
    "\n",
    "calibration_graph = {\"dspacing\": dspacing_with_calibration}\n",
    "sc.show_graph(calibration_graph)"
   ]
  },
  {
   "cell_type": "markdown",
   "id": "0f678913-7f45-4286-a157-6a672d6ad637",
   "metadata": {},
   "source": [
    "### Convert units"
   ]
  },
  {
   "cell_type": "code",
   "execution_count": null,
   "id": "601236ed-73fb-41a5-81b3-62d156f94663",
   "metadata": {},
   "outputs": [],
   "source": [
    "si_da.coords['difc'] = sc.array(dims=['spectrum'], \n",
    "                                values=calib['difc'].values, \n",
    "                                unit=sc.Unit('us/Angstrom'))\n",
    "\n",
    "si_dsp_calib = si_da.transform_coords(\"dspacing\", \n",
    "                                      graph=calibration_graph)\n",
    "si_dsp_calib"
   ]
  },
  {
   "cell_type": "markdown",
   "id": "ced93307-6bfc-4e2d-8a6c-8d59b4e69b5c",
   "metadata": {},
   "source": [
    "## Group"
   ]
  },
  {
   "cell_type": "code",
   "execution_count": null,
   "id": "46be71d3-c327-4805-a5ef-49a6ae883689",
   "metadata": {},
   "outputs": [],
   "source": [
    "si_dsp_calib.coords['columns'] = si_dsp.coords['columns']\n",
    "si_dsp_calib_gp = si_dsp_calib.group('columns')\n",
    "si_dsp_calib_gp"
   ]
  },
  {
   "cell_type": "code",
   "execution_count": null,
   "id": "62096e5a-979f-4898-b733-89701a2295c7",
   "metadata": {},
   "outputs": [],
   "source": [
    "pp.plot({f'Column {i}': si_dsp_calib_gp['columns', sc.scalar(i, unit=None)].hist(dspacing=400) for i in range(1, 7)},\n",
    "        grid=True, errorbars=False)"
   ]
  },
  {
   "cell_type": "markdown",
   "id": "5567cd01-ab76-44cc-b58c-39bd9d6bdbd8",
   "metadata": {},
   "source": [
    "## Bin"
   ]
  },
  {
   "cell_type": "code",
   "execution_count": null,
   "id": "d0c24541-17e1-47c0-94e3-100ebc7db1de",
   "metadata": {},
   "outputs": [],
   "source": [
    "dspacing_bins1 = sc.geomspace(dim='dspacing', \n",
    "                              unit='angstrom', \n",
    "                              start=0.35,\n",
    "                              stop=4.7,\n",
    "                              num=3582) # number from implementation in Mantid\n",
    "\n",
    "si_dsp_calib_gp_bin = si_dsp_calib_gp.bin(dspacing=dspacing_bins1)\n",
    "si_dsp_calib_gp_bin"
   ]
  },
  {
   "cell_type": "markdown",
   "id": "7291dc97-4e6c-4f3e-93ba-44b20d94519e",
   "metadata": {},
   "source": [
    "If now we zoom in to the two peaks at 3.1 Å, we will see that they line up:"
   ]
  },
  {
   "cell_type": "code",
   "execution_count": null,
   "id": "730b6cda-b216-406a-a796-b207cccfb66f",
   "metadata": {},
   "outputs": [],
   "source": [
    "dsp_min = 3 \n",
    "dsp_max = 3.5\n",
    "\n",
    "pp.plot({f'Column {i}': si_dsp_calib_gp_bin['columns', sc.scalar(i, unit=None)].hist()['dspacing', dsp_min*sc.Unit('angstrom'):dsp_max*sc.Unit('angstrom')] \n",
    "         for i in range(1, 7)},\n",
    "        title=f'Zoom in dspacing [{dsp_min}, {dsp_max}] Angstrom',\n",
    "        grid=True, errorbars=False)"
   ]
  },
  {
   "cell_type": "markdown",
   "id": "705ff609-b7f2-4718-a70c-f0605acca86f",
   "metadata": {},
   "source": [
    "## Removing events\n",
    "\n",
    "Before removing the events, we rebin the data to a grid which will also be used for the Vanadium data:"
   ]
  },
  {
   "cell_type": "code",
   "execution_count": null,
   "id": "8be91314-bd20-4446-bd8c-14713e534c1c",
   "metadata": {},
   "outputs": [],
   "source": [
    "dspacing_bins2 = sc.geomspace(dim='dspacing', \n",
    "                              unit='angstrom', \n",
    "                              start=0.3,\n",
    "                              stop=5.26,\n",
    "                              num=3582) # number from implementation in Mantid\n",
    "\n",
    "si_dsp_calib_gp_hist = si_dsp_calib_gp_bin.hist(dspacing=dspacing_bins2)"
   ]
  },
  {
   "cell_type": "markdown",
   "id": "d29fc684-980d-4712-a9e7-fbe26e79bc67",
   "metadata": {},
   "source": [
    "## Normalising the data\n",
    "### Loading and reducing Vanadium and Empty data"
   ]
  },
  {
   "cell_type": "code",
   "execution_count": null,
   "id": "54417781-0877-433c-b98a-89dc6a44e738",
   "metadata": {},
   "outputs": [],
   "source": [
    "empty = scn.load_with_mantid(f\"{dataPath}/empty.nxs\")['data']\n",
    "van = scn.load_with_mantid(f\"{dataPath}/vanadium-niobium.nxs\")['data']\n",
    "\n",
    "# convert to d-spacing with calibration\n",
    "empty.coords['difc'] = sc.array(dims=['spectrum'], \n",
    "                                values=calib['difc'].values, \n",
    "                                unit=sc.Unit('us/Angstrom'))\n",
    "van.coords['difc'] = sc.array(dims=['spectrum'], \n",
    "                                values=calib['difc'].values, \n",
    "                                unit=sc.Unit('us/Angstrom'))\n",
    "\n",
    "empty_dsp = empty.transform_coords(\"dspacing\",\n",
    "                                   graph=calibration_graph)\n",
    "\n",
    "van_dsp = van.transform_coords(\"dspacing\",\n",
    "                               graph=calibration_graph)\n",
    "\n",
    "# create groups\n",
    "assert empty_dsp.sizes['spectrum'] == si_dsp.sizes['spectrum']\n",
    "empty_dsp.coords['columns'] = si_dsp.coords['columns']\n",
    "\n",
    "assert van_dsp.sizes['spectrum'] == si_dsp.sizes['spectrum']\n",
    "van_dsp.coords['columns'] = si_dsp.coords['columns']"
   ]
  },
  {
   "cell_type": "code",
   "execution_count": null,
   "id": "443f82bc-b405-4751-a172-747bbf1e0410",
   "metadata": {},
   "outputs": [],
   "source": [
    "# group\n",
    "empty_gp = empty_dsp.group('columns')\n",
    "\n",
    "van_gp = van_dsp.group('columns')"
   ]
  },
  {
   "cell_type": "code",
   "execution_count": null,
   "id": "54eb8c4a-416a-40c4-9a2e-3cd206b8a4b4",
   "metadata": {},
   "outputs": [],
   "source": [
    "# rebin\n",
    "empty_bin = empty_gp.bin(dspacing=dspacing_bins2)\n",
    "\n",
    "van_bin = van_gp.bin(dspacing=dspacing_bins2)"
   ]
  },
  {
   "cell_type": "code",
   "execution_count": null,
   "id": "5ee1dee9-1328-4b28-bbd0-07cfcf9271b1",
   "metadata": {},
   "outputs": [],
   "source": [
    "pp.plot({f'Column {i}': empty_bin['columns', sc.scalar(i, unit=None)].hist() for i in range(1, 7)}, \n",
    "        grid=True,  title='Empty', errorbars=False)"
   ]
  },
  {
   "cell_type": "code",
   "execution_count": null,
   "id": "79f43be9-3fae-4a24-a56d-b485b4a43a90",
   "metadata": {},
   "outputs": [],
   "source": [
    "pp.plot({f'Column {i}': van_bin['columns', sc.scalar(i, unit=None)].hist() for i in range(1, 7)}, \n",
    "        grid=True,  title='Vanadium', errorbars=False)"
   ]
  },
  {
   "cell_type": "markdown",
   "id": "a6fa5f7f-5304-4bb7-bf76-c47debe8f9ae",
   "metadata": {},
   "source": [
    "The normalisation correction is captured in the vanadium-niobium scattering so we want to remove any other \"background\" contribution to that measurement. This is why we collected the \"empty\" instrument dataset, which should be identical to the vanadium-niobium measurement (e.g., same detector positions and same front end settings) only without the V-Nb. The vanadium-niobium signal we need is obtained by subtracting this empty:"
   ]
  },
  {
   "cell_type": "markdown",
   "id": "623afccc-f7b8-491b-80d7-72835fb76597",
   "metadata": {},
   "source": [
    "## Subtract empty and convert to histogram"
   ]
  },
  {
   "cell_type": "code",
   "execution_count": null,
   "id": "34b55770-2897-4e61-92af-4feacdbe0d5a",
   "metadata": {},
   "outputs": [],
   "source": [
    "norm_column = sc.hist(van_bin.bins.concatenate(-empty_bin))\n",
    "norm_column"
   ]
  },
  {
   "cell_type": "code",
   "execution_count": null,
   "id": "730bd43d-70a7-4f1c-8933-e58d97cf71be",
   "metadata": {},
   "outputs": [],
   "source": [
    "pp.plot({f'Column {i}': norm_column['columns', sc.scalar(i, unit=None)] for i in range(1, 7)}, \n",
    "        grid=True,  title='Vanadium-Empty', errorbars=False)"
   ]
  },
  {
   "cell_type": "markdown",
   "id": "1d0b86bd-3df0-43ef-a995-7bc4bd5abe0c",
   "metadata": {},
   "source": [
    "The next processing step is to smooth the data. \n",
    "\n",
    "The normalisation correction is slowly varying in d-spacing, and smoothing will avoid adding unnecessary noise to the data. It might be necessary to experiment to find the correct smoothing parameter `sigma`. \n",
    "\n",
    "## Smooth vanadium"
   ]
  },
  {
   "cell_type": "code",
   "execution_count": null,
   "id": "96895881-4aaa-4bbb-9fdb-bb65e3c86d34",
   "metadata": {},
   "outputs": [],
   "source": [
    "from scipp.scipy.ndimage import gaussian_filter\n",
    "\n",
    "norm_column_smooth = sc.DataGroup()\n",
    "\n",
    "for i in range(6):\n",
    "    norm_column_smooth[f'Column{i+1}'] = gaussian_filter(sc.values(norm_column['columns', i]), \n",
    "                                                         sigma=10)\n",
    "\n",
    "pp.plot(norm_column_smooth, \n",
    "        title='Vanadium-Empty smoothed', \n",
    "        errorbars=False, \n",
    "        grid=True)"
   ]
  },
  {
   "cell_type": "markdown",
   "id": "6221a0bd-df55-4dd4-90f9-2467c8c66f6f",
   "metadata": {},
   "source": [
    "## Final reduced data\n",
    "\n",
    "Now we can apply this normalisation to obtain the reduced data:"
   ]
  },
  {
   "cell_type": "code",
   "execution_count": null,
   "id": "d6922d7d-2ecb-42e3-89d4-76516f525bd6",
   "metadata": {},
   "outputs": [],
   "source": [
    "pp.plot({f'Column {i}': si_dsp_calib_gp_hist['columns', sc.scalar(i, unit=None)] for i in range(1, 7)}, \n",
    "        grid=True,  title='Si histogrammed', errorbars=False)"
   ]
  },
  {
   "cell_type": "code",
   "execution_count": null,
   "id": "9c27bc08-bc5d-436a-a864-4a1b8de44f32",
   "metadata": {},
   "outputs": [],
   "source": [
    "silicon_column_final = sc.DataGroup()\n",
    "for i in range(6):\n",
    "    silicon_column_final[f'Column{i+1}'] = si_dsp_calib_gp_hist['columns', i] / norm_column_smooth[f'Column{i+1}']\n",
    "    \n",
    "silicon_column_final"
   ]
  },
  {
   "cell_type": "code",
   "execution_count": null,
   "id": "52b8295e-6159-4b49-9c9f-1a02f84f3854",
   "metadata": {},
   "outputs": [],
   "source": [
    "pp.plot(silicon_column_final, grid=True,  title='Si/(Vana-Empty)', errorbars=False)"
   ]
  },
  {
   "cell_type": "markdown",
   "id": "b51ed87a-ee4d-4df7-b1ce-f1f310344a02",
   "metadata": {},
   "source": [
    "This evolution of the spectra as function of d-dspacing is because at the edge of each individual spectrum, the denominator `norm_column_smooth` becomes very small and the result of dividing becomes ill conditioned (and then NAN where the denominator is exactly zero). \n",
    "\n",
    "Since the d-spacing range is angle dependent, this happens at a different d-spacing for each spectrum. We need custom binning parameters for each spectrum. These can be calculated for each spectrum and are tablulated here: \n",
    "\n",
    "| column | average 2$\\theta$ (deg) | d$_{min}$ (Å)| d$_{max}$ (Å)| number of bins|\n",
    "|-------|-------------------------|--------------|------------|-------------|\n",
    "| 1 | 150 |0.3 |2.22 | 2503\n",
    "| 2 | 120 |0.33 |2.48 | 2523\n",
    "| 3 | 110 |0.37 |2.86 | 230\n",
    "| 4 | 90  |0.39 |3.05 | 231\n",
    "| 5 | 60  |0.45 |3.86 | 2151\n",
    "| 6 | 50  |0.55 |5.26 | 3926\n",
    "\n",
    "\n",
    "Below we go back to the silicon and vanadium data with events and use new binning edges:"
   ]
  },
  {
   "cell_type": "code",
   "execution_count": null,
   "id": "bc415462-f528-41f8-b6f8-96b5a9fc6be7",
   "metadata": {},
   "outputs": [],
   "source": [
    "dsp_edge_min = [0.30, 0.33, 0.37, 0.39, 0.45, 0.55]\n",
    "dsp_edge_max = [2.22, 2.48, 2.86, 3.05, 3.86, 5.26]\n",
    "dsp_nb_bins = [2504, 2523, 230, 231, 2151, 3926]\n",
    "\n",
    "van_minus_empty = van_bin.bins.concatenate(-empty_bin)\n",
    "\n",
    "silicon_column_final = sc.DataGroup()\n",
    "\n",
    "for i in range(6):\n",
    "    dsp_bins = sc.geomspace(dim='dspacing', \n",
    "                              unit='angstrom', \n",
    "                              start=dsp_edge_min[i],\n",
    "                              stop=dsp_edge_max[i],\n",
    "                              num=dsp_nb_bins[i]) \n",
    "\n",
    "    silicon_column_final[f'Column{i+1}'] = si_dsp_calib_gp_bin['columns', i].bin(dspacing=dsp_bins).hist() / gaussian_filter(\n",
    "        sc.values(van_minus_empty['columns', i].bin(dspacing=dsp_bins).hist()), \n",
    "                                                         sigma=10)"
   ]
  },
  {
   "cell_type": "code",
   "execution_count": null,
   "id": "84474645-c478-4633-8ab2-a93decf9f54d",
   "metadata": {},
   "outputs": [],
   "source": [
    "pp.plot({f'Column{i}': silicon_column_final[f'Column{i}'] for i in range(1,7)}, \n",
    "        errorbars=False,\n",
    "        grid=True, title='Final Silicon')"
   ]
  },
  {
   "cell_type": "markdown",
   "id": "6e7cf65e-3d2b-43cd-99a3-ac1e6dd4c988",
   "metadata": {},
   "source": [
    "Congratulations! Now that your diffraction data are correctly calibrated, normalised and focussed, they are ready to export to a Rietveld package for analysis!\n",
    "\n",
    "\n",
    "**Bonus**: Without smoothing the Vanadium data, we get:"
   ]
  },
  {
   "cell_type": "code",
   "execution_count": null,
   "id": "7568e01a-1bcd-46de-a4ab-9e8e73942691",
   "metadata": {},
   "outputs": [],
   "source": [
    "silicon_column_final_bonus = sc.DataGroup()\n",
    "\n",
    "for i in range(6):\n",
    "    dsp_bins = sc.geomspace(dim='dspacing', \n",
    "                              unit='angstrom', \n",
    "                              start=dsp_edge_min[i],\n",
    "                              stop=dsp_edge_max[i],\n",
    "                              num=dsp_nb_bins[i]) \n",
    "    silicon_column_final_bonus[f'Column{i+1}'] = \\\n",
    "    si_dsp_calib_gp_bin['columns', i].bin(dspacing=dsp_bins).hist() / van_minus_empty['columns', i].bin(dspacing=dsp_bins).hist()\n",
    "\n",
    "pp.plot({f'Column{i}': silicon_column_final_bonus[f'Column{i}'] for i in range(1,7)}, \n",
    "        errorbars=False,\n",
    "        grid=True, title='Final Silicon without Vanadium smoothing')"
   ]
  },
  {
   "cell_type": "code",
   "execution_count": null,
   "id": "8769edcd-cb36-4309-87f0-475a8a875fe2",
   "metadata": {},
   "outputs": [],
   "source": []
  }
 ],
 "metadata": {
  "kernelspec": {
   "display_name": "Python 3 (ipykernel)",
   "language": "python",
   "name": "python3"
  },
  "language_info": {
   "codemirror_mode": {
    "name": "ipython",
    "version": 3
   },
   "file_extension": ".py",
   "mimetype": "text/x-python",
   "name": "python",
   "nbconvert_exporter": "python",
   "pygments_lexer": "ipython3",
   "version": "3.10.14"
  }
 },
 "nbformat": 4,
 "nbformat_minor": 5
}
